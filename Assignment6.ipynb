{
  "nbformat": 4,
  "nbformat_minor": 0,
  "metadata": {
    "colab": {
      "name": "Assignment6.ipynb",
      "provenance": [],
      "toc_visible": true
    },
    "kernelspec": {
      "name": "python395jvsc74a57bd02647ea34e536f865ab67ff9ddee7fd78773d956cec0cab53c79b32cd10da5d83",
      "display_name": "Python 3.9.5 64-bit"
    },
    "language_info": {
      "name": "python",
      "version": "3.9.5"
    },
    "metadata": {
      "interpreter": {
        "hash": "2647ea34e536f865ab67ff9ddee7fd78773d956cec0cab53c79b32cd10da5d83"
      }
    }
  },
  "cells": [
    {
      "cell_type": "markdown",
      "metadata": {
        "id": "1rjOZTfJwv-c"
      },
      "source": [
        "##Why do we want to read and write files?\n",
        "\n",
        "Being able to open and read in files allows us to work with larger data sets, where it wouldn’t be possible to type in each and every value and store them one-at-a-time as variables. Writing files allows us to process our data and then save the output to a file so we can look at it later.\n",
        "\n",
        "Each time we had to open a file, read the contents and then close the file. Since this is a series of steps we will often need to do, we can write a single function that does all that for us. \n",
        "\n",
        "***1. Write a small utility function read_file(filename) that reads the specified file and simply returns all contents as a single string:***"
      ]
    },
    {
      "cell_type": "code",
      "metadata": {
        "id": "vB8VJ4gdxtSx"
      },
      "source": [
        "def read_file(filename): # function to read a file\n",
        "    data = open(filename).read() # read the dataframe\n",
        "    open(filename).close() # cloase after reading\n",
        "    return data # return the data"
      ],
      "execution_count": 141,
      "outputs": []
    },
    {
      "cell_type": "markdown",
      "metadata": {
        "id": "_GpdbVQ5xzSf"
      },
      "source": [
        "***2. Now, instead of having to open a file, read the contents and close the file, we can just call the function read_file to do all that. \n",
        "Note that you should replace yourFile.txt with you own file which contains a  small dataset. Change filename and test it.***"
      ]
    },
    {
      "cell_type": "code",
      "metadata": {
        "colab": {
          "base_uri": "https://localhost:8080/"
        },
        "id": "pw17-2R9x0v1",
        "outputId": "3383b14a-a58b-4628-af8e-a71a32928f29"
      },
      "source": [
        "text = read_file(\"olzhasFile.txt\")\n",
        "print(text)"
      ],
      "execution_count": 140,
      "outputs": [
        {
          "output_type": "stream",
          "name": "stdout",
          "text": [
            "id\tname\tyear_of_birth\n1\tAibat\t2002\n2\tOlzhas\t2003\n3\tDana\t2003\n"
          ]
        }
      ]
    },
    {
      "cell_type": "markdown",
      "metadata": {
        "id": "WEpft6IJwv71"
      },
      "source": [
        "In a directory (Google colab or local machine) store multiple files with the extension .txt. You should iterate over all these files. You can do this using the listdir function from the os module. We import this function as follows:"
      ]
    },
    {
      "cell_type": "code",
      "metadata": {
        "id": "lH2hvRtDzU3a"
      },
      "source": [
        "from os import listdir"
      ],
      "execution_count": 94,
      "outputs": []
    },
    {
      "cell_type": "markdown",
      "metadata": {
        "id": "oyBPoymmzXtW"
      },
      "source": [
        "After that, the listdir function is available to use. This function takes as argument the path to a directory and returns all the files and subdirectories present in that directory:"
      ]
    },
    {
      "cell_type": "code",
      "metadata": {
        "id": "naqedV4KzaGz"
      },
      "source": [
        "path = (\"C:\\\\Users\\\\User\\\\Desktop\\\\Data Acquistion Lab  Beibut Amirgaliyev\\\\ASS6\\\\HolyCowBeaches\")\n",
        "for file in os.listdir(path):\n",
        "    if os.path.isfile(os.path.join(path, file)):\n",
        "        print(file)\n",
        "    else:\n",
        "        for f in os.listdir(path +\"\\\\\"+file):\n",
        "            print(file + \":\")\n",
        "            print(\" \" + f)\n",
        "            "
      ],
      "execution_count": 142,
      "outputs": [
        {
          "output_type": "stream",
          "name": "stdout",
          "text": [
            "asd:\n test12.txt\nTest1.txt\nTest2.txt\nTest4.txt\nДокумент Microsoft Word.docx\nНовая папка:\n test5.txt\n"
          ]
        }
      ]
    },
    {
      "cell_type": "markdown",
      "metadata": {
        "id": "Ojqub5CazcuN"
      },
      "source": [
        "***3.Notice that listdir returns a list and we can iterate over that list. Write a function def list_textfiles(directory) to return a list of filenames ending in '.txt' in DIRECTORY.***"
      ]
    },
    {
      "cell_type": "code",
      "metadata": {
        "id": "JFb0jugl0IZz"
      },
      "source": [
        "def list_textfiles(directory):\n",
        "  #Return a list of filenames ending in '.txt' in DIRECTORY.\"\n",
        "  textfiles = []\n",
        "  for fileForOlzhas in listdir(directory):\n",
        "    if fileForOlzhas.endswith(\".txt\"):\n",
        "      textfiles.append(directory + \"/\" + fileForOlzhas)\n",
        "  return textfiles"
      ],
      "execution_count": 143,
      "outputs": []
    },
    {
      "cell_type": "markdown",
      "metadata": {
        "id": "T0O4B6JCwv4t"
      },
      "source": [
        "##Writing data out to a file\n",
        "Often, we will want to write data to a new file. This is especially useful if we have done a lot of computations or data processing and we want to be able to save it and come back to it later.\n",
        "###***4. Writing a file is the same multi-step process***\n",
        "Just like reading a file, we will open and write the file in multiple steps.\n",
        "\n",
        "Create a variable to hold the name of the file that we want to open. Often, this will be a new file that doesn’t yet exist.\n",
        "Call a function to open the file. This time, we will specify that we are opening the file to write into it!\n",
        "Write the data into the file. This requires some careful attention to formatting.\n",
        "When we are done, we should remember to close the file!\n",
        "Write a code below that gives an example of writing to a file:"
      ]
    },
    {
      "cell_type": "code",
      "metadata": {
        "id": "kQCUTD1m5GHl"
      },
      "source": [
        "filename = \"output.txt\"\n",
        "\n",
        "#w tells python we are opening the file to write into it\n",
        "openForRead4 = open(filename, 'w')\n",
        "openForRead4.write(\"I'm mad at Disney, Disney. \")\n",
        "openForRead4.write(\"They tricked me, tricked me. \")\n",
        "openForRead4.write(\"Had me wishing on a shooting star. \")\n",
        "openForRead4.write(\"But now I'm twenty-something. \") \n",
        "openForRead4.write(\"I still know nothing. \")\n",
        "openForRead4.write(\"About who I am or what I'm not. \")\n",
        "openForRead4.write(\"Songwriter: Salem Ilese \")\n",
        "openForRead4.close()\n",
        "\n",
        "text = read_file(\"output.txt\")\n",
        "print(text)"
      ],
      "execution_count": 144,
      "outputs": [
        {
          "output_type": "stream",
          "name": "stdout",
          "text": [
            "I'm mad at Disney, Disney. They tricked me, tricked me. Had me wishing on a shooting star. But now I'm twenty-something. I still know nothing. About who I am or what I'm not. Songwriter: Salem Ilese \n"
          ]
        }
      ]
    },
    {
      "cell_type": "markdown",
      "metadata": {
        "id": "nBrAA9J5wv1h"
      },
      "source": [
        "###5. Newline characters\n",
        "When you examine the file you just wrote, you will see that all of the text is on the same line! This is because we must tell Python when to start on a new line by using the special string character '\\n'. This newline character will tell Python exactly where to start each new line.\n",
        "\n",
        "The example below demonstrates how to use newline characters:"
      ]
    },
    {
      "cell_type": "code",
      "metadata": {
        "id": "pDjefXRC5kFp"
      },
      "source": [
        "filename5 = 'output_newlines.txt'\n",
        "openForRead5 = open(filename5, 'w')\n",
        "openForRead5.write(\"I'm mad at Disney, Disney.\\n\")\n",
        "openForRead5.write(\"They tricked me, tricked me.\\n\")\n",
        "openForRead5.write(\"Had me wishing on a shooting star.\\n\")\n",
        "openForRead5.write(\"But now I'm twenty-something.\\n\") \n",
        "openForRead5.write(\"I still know nothing.\\n\")\n",
        "openForRead5.write(\"About who I am or what I'm not.\\n\")\n",
        "openForRead5.write(\"Songwriter: Salem Ilese\\n\")\n",
        "openForRead5.close()\n",
        "\n",
        "text = read_file(\"output_newlines.txt\")\n",
        "print(text)"
      ],
      "execution_count": 145,
      "outputs": [
        {
          "output_type": "stream",
          "name": "stdout",
          "text": [
            "I'm mad at Disney, Disney.\nThey tricked me, tricked me.\nHad me wishing on a shooting star.\nBut now I'm twenty-something.\nI still know nothing.\nAbout who I am or what I'm not.\nSongwriter: Salem Ilese\n\n"
          ]
        }
      ]
    },
    {
      "cell_type": "markdown",
      "metadata": {
        "id": "FdmFI_pUwvx6"
      },
      "source": [
        "##***6. Pulling it all together***\n",
        "Read in the data from the file *.csv (selected by you) that we have been working with. You will need to do the following steps:\n",
        "\n",
        "1.   Open the file.\n",
        "2.   Use .readlines() to create a list of lines in the file. Then close the file!\n",
        "3. Open a file to write your output into.\n",
        "4. Write the header line of the output file.\n",
        "5. Use a for loop to allow you to loop through each line in the list of lines from the input file.\n",
        "6. For each line, check if the growth condition was experimental or control.\n",
        "7. For the control lines, write the line of data to the output file.\n",
        "8. Close the output file when you’re done!\n",
        "\n",
        "\n",
        "\n"
      ]
    },
    {
      "cell_type": "code",
      "execution_count": 146,
      "metadata": {},
      "outputs": [],
      "source": [
        "filename6 = 'file.csv'\n",
        "row = open(filename6, 'r').readlines() \n",
        "\t\n",
        "open(filename6, 'r').close()\n",
        "\n",
        "filename6 = 'TaxiFromTaxi.txt' \n",
        "openFile = open(filename6, 'w')\n",
        "\n",
        "openFile.write(row[0]) # head \n",
        "\n",
        "for line in row[1:]: # miss 1 row because it is head \n",
        "    openFile.write(line) # read file\n",
        "\n",
        "openFile.close() # close file"
      ]
    },
    {
      "cell_type": "code",
      "execution_count": 147,
      "metadata": {},
      "outputs": [
        {
          "output_type": "stream",
          "name": "stdout",
          "text": [
            ",VendorID,tpep_pickup_datetime,tpep_dropoff_datetime,passenger_count,trip_distance,RatecodeID,store_and_fwd_flag,PULocationID,DOLocationID,payment_type,fare_amount,extra,mta_tax,tip_amount,tolls_amount,improvement_surcharge,total_amount,congestion_surcharge\n0,1.0,2020-01-01 00:28:15,2020-01-01 00:33:03,1.0,1.2,1.0,N,238,239,1.0,6.0,3.0,0.5,1.47,0.0,0.3,11.27,2.5\n1,1.0,2020-01-01 00:35:39,2020-01-01 00:43:04,1.0,1.2,1.0,N,239,238,1.0,7.0,3.0,0.5,1.5,0.0,0.3,12.3,2.5\n2,1.0,2020-01-01 00:47:41,2020-01-01 00:53:52,1.0,0.6,1.0,N,238,238,1.0,6.0,3.0,0.5,1.0,0.0,0.3,10.8,2.5\n3,1.0,2020-01-01 00:55:23,2020-01-01 01:00:14,1.0,0.8,1.0,N,238,151,1.0,5.5,0.5,0.5,1.36,0.0,0.3,8.16,0.0\n4,2.0,2020-01-01 00:01:58,2020-01-01 00:04:16,1.0,0.0,1.0,N,193,193,2.0,3.5,0.5,0.5,0.0,0.0,0.3,4.8,0.0\n5,2.0,2020-01-01 00:09:44,2020-01-01 00:10:37,1.0,0.03,1.0,N,7,193,2.0,2.5,0.5,0.5,0.0,0.0,0.3,3.8,0.0\n6,2.0,2020-01-01 00:39:25,2020-01-01 00:39:29,1.0,0.0,1.0,N,193,193,1.0,2.5,0.5,0.5,0.01,0.0,0.3,3.81,0.0\n7,2.0,2019-12-18 15:27:49,2019-12-18 15:28:59,1.0,0.0,5.0,N,193,193,1.0,0.01,0.0,0.0,0.0,0.0,0.3,2.81,2.5\n8,2.0,2019-12-18 15:30:35,2019-12-18 15:31:35,4.0,0.0,1.0,N,193,193,1.0,2.5,0.5,0.5,0.0,0.0,0.3,6.3,2.5\n9,1.0,2020-01-01 00:29:01,2020-01-01 00:40:28,2.0,0.7,1.0,N,246,48,1.0,8.0,3.0,0.5,2.35,0.0,0.3,14.15,2.5\n\n"
          ]
        }
      ],
      "source": [
        "text2 = read_file(\"TaxiFromTaxi.txt\")\n",
        "print(text2)"
      ]
    },
    {
      "cell_type": "markdown",
      "metadata": {
        "id": "mmH4FUlMAPZi"
      },
      "source": [
        "#Part B. Reading a database.\n",
        "1. Create a database.\n",
        "2. Store it in *.db format.\n",
        "3. Using sqllite3 library open your database and get data using simple select and store it in a DataFrame format."
      ]
    },
    {
      "cell_type": "code",
      "execution_count": 15,
      "metadata": {},
      "outputs": [
        {
          "output_type": "execute_result",
          "data": {
            "text/plain": [
              "<function Connection.close>"
            ]
          },
          "metadata": {},
          "execution_count": 15
        }
      ],
      "source": [
        "import pandas as pd\n",
        "\n",
        "import sqlite3\n",
        "conn = sqlite3.connect('own.db')\n",
        "cursor = conn.cursor()\n",
        "\n",
        "if(cursor.fetchone() == None): # If Table do not exit\n",
        "   \n",
        "   cursor.execute(\"\"\"CREATE TABLE IF NOT EXISTS person(\n",
        "      id integer,\n",
        "      name varchar(35),\n",
        "      year integer\n",
        "   )\"\"\")\n",
        "   \n",
        "elif(cursor.fetchone() != None):\n",
        "   cursor.execute(\"DROP TABLE person\")\n",
        "   cursor.execute(\"\"\"CREATE TABLE IF NOT EXISTS person(\n",
        "      id integer,\n",
        "      name varchar(35),\n",
        "      year integer\n",
        "   )\"\"\")\n",
        "conn.commit()\n",
        "conn.close"
      ]
    },
    {
      "cell_type": "code",
      "execution_count": 138,
      "metadata": {},
      "outputs": [
        {
          "output_type": "execute_result",
          "data": {
            "text/plain": [
              "<function Connection.close>"
            ]
          },
          "metadata": {},
          "execution_count": 138
        }
      ],
      "source": [
        "conn = sqlite3.connect('own.db')\n",
        "cursor = conn.cursor()\n",
        "cursor.execute(\"INSERT INTO person VALUES(1,'Elon', 52)\")\n",
        "cursor.execute(\"INSERT INTO person VALUES(2,'Will', 59)\")\n",
        "cursor.execute(\"INSERT INTO person VALUES(3,'Messi', 45)\")\n",
        "conn.commit()\n",
        "conn.close"
      ]
    },
    {
      "cell_type": "code",
      "execution_count": 139,
      "metadata": {},
      "outputs": [
        {
          "output_type": "execute_result",
          "data": {
            "text/plain": [
              "   id   name  year\n",
              "0   1   Elon    52\n",
              "1   2   Will    59\n",
              "2   3  Messi    45"
            ],
            "text/html": "<div>\n<style scoped>\n    .dataframe tbody tr th:only-of-type {\n        vertical-align: middle;\n    }\n\n    .dataframe tbody tr th {\n        vertical-align: top;\n    }\n\n    .dataframe thead th {\n        text-align: right;\n    }\n</style>\n<table border=\"1\" class=\"dataframe\">\n  <thead>\n    <tr style=\"text-align: right;\">\n      <th></th>\n      <th>id</th>\n      <th>name</th>\n      <th>year</th>\n    </tr>\n  </thead>\n  <tbody>\n    <tr>\n      <th>0</th>\n      <td>1</td>\n      <td>Elon</td>\n      <td>52</td>\n    </tr>\n    <tr>\n      <th>1</th>\n      <td>2</td>\n      <td>Will</td>\n      <td>59</td>\n    </tr>\n    <tr>\n      <th>2</th>\n      <td>3</td>\n      <td>Messi</td>\n      <td>45</td>\n    </tr>\n  </tbody>\n</table>\n</div>"
          },
          "metadata": {},
          "execution_count": 139
        }
      ],
      "source": [
        "conn = sqlite3.connect('own.db', check_same_thread = False)  # My own database\n",
        "# check_same_thread = False -- for to not check thread by sqlite3 connection\n",
        "cursor = conn.cursor()\n",
        "select = \"SELECT * FROM person\"\n",
        "cursor.execute(select)\n",
        "df = pd.read_sql_query(select, conn)\n",
        "\n",
        "conn.commit()\n",
        "conn.close\n",
        "df"
      ]
    },
    {
      "cell_type": "markdown",
      "metadata": {
        "id": "5ar4KnIrAaXW"
      },
      "source": [
        "#Part C. Working with html\n",
        "1. Open HTML-page from Internet\n",
        "2. Read data using tags\n",
        "3. Display a given HTML-page items using JSON-file.\n",
        "\n",
        "Note: You can use any library related to this task (crawlers, build-in libraries)."
      ]
    },
    {
      "cell_type": "code",
      "metadata": {
        "id": "5ynGVkI3BsUt"
      },
      "source": [
        "import pandas as pd\n",
        "html_url = \"https://myheroacademia.fandom.com/ru/wiki/%D0%93%D0%B5%D1%80%D0%BE%D0%B8\" # My Hero Academia \n",
        "boku_na_hero = pd.read_html(html_url)\n",
        "len(boku_na_hero)"
      ],
      "execution_count": 38,
      "outputs": [
        {
          "output_type": "execute_result",
          "data": {
            "text/plain": [
              "6"
            ]
          },
          "metadata": {},
          "execution_count": 38
        }
      ]
    },
    {
      "cell_type": "code",
      "execution_count": 39,
      "metadata": {},
      "outputs": [
        {
          "output_type": "execute_result",
          "data": {
            "text/plain": [
              "  Геройское имя                                  Прозвище    Настоящее имя  \\\n",
              "0      Ползущий                      Джентельмен, Везущий  Коичи Хаимавари   \n",
              "1      Поп-Степ  Независимая звезда (самопровозглашённая)   Казухо Ханеяма   \n",
              "2        Кастет                        Уборщик с кулаками   Такеши Куроива   \n",
              "\n",
              "                                             Причуда  \n",
              "0                                         Скольжение  \n",
              "1                                             Прыжок  \n",
              "2  Разгон (была украдена Все-За-Одного) Беспричуд...  "
            ],
            "text/html": "<div>\n<style scoped>\n    .dataframe tbody tr th:only-of-type {\n        vertical-align: middle;\n    }\n\n    .dataframe tbody tr th {\n        vertical-align: top;\n    }\n\n    .dataframe thead th {\n        text-align: right;\n    }\n</style>\n<table border=\"1\" class=\"dataframe\">\n  <thead>\n    <tr style=\"text-align: right;\">\n      <th></th>\n      <th>Геройское имя</th>\n      <th>Прозвище</th>\n      <th>Настоящее имя</th>\n      <th>Причуда</th>\n    </tr>\n  </thead>\n  <tbody>\n    <tr>\n      <th>0</th>\n      <td>Ползущий</td>\n      <td>Джентельмен, Везущий</td>\n      <td>Коичи Хаимавари</td>\n      <td>Скольжение</td>\n    </tr>\n    <tr>\n      <th>1</th>\n      <td>Поп-Степ</td>\n      <td>Независимая звезда (самопровозглашённая)</td>\n      <td>Казухо Ханеяма</td>\n      <td>Прыжок</td>\n    </tr>\n    <tr>\n      <th>2</th>\n      <td>Кастет</td>\n      <td>Уборщик с кулаками</td>\n      <td>Такеши Куроива</td>\n      <td>Разгон (была украдена Все-За-Одного) Беспричуд...</td>\n    </tr>\n  </tbody>\n</table>\n</div>"
          },
          "metadata": {},
          "execution_count": 39
        }
      ],
      "source": [
        "lynch = boku_na_hero[4] # Список линчевателей lynch = линчевать\n",
        "lynch"
      ]
    },
    {
      "cell_type": "code",
      "execution_count": 40,
      "metadata": {},
      "outputs": [
        {
          "output_type": "execute_result",
          "data": {
            "text/plain": [
              "     Геройское имя                                 Прозвище  Настоящее имя  \\\n",
              "0            Анима                           Вежливый герой     Коджи Кода   \n",
              "1     Боевой Кулак                                        ?    Ицука Кендо   \n",
              "2        Вантаблэк                             Хитрый герой  Шихай Куроиро   \n",
              "3  Виноградный Сок  Герой, который готов сорвать с себя всё  Минору Минета   \n",
              "4             Деку                                        ?  Изуку Мидория   \n",
              "\n",
              "           Причуда  \n",
              "0   Голос животных  \n",
              "1   Большие кулаки  \n",
              "2          Чернота  \n",
              "3  Волосы-виноград  \n",
              "4     Один За Всех  "
            ],
            "text/html": "<div>\n<style scoped>\n    .dataframe tbody tr th:only-of-type {\n        vertical-align: middle;\n    }\n\n    .dataframe tbody tr th {\n        vertical-align: top;\n    }\n\n    .dataframe thead th {\n        text-align: right;\n    }\n</style>\n<table border=\"1\" class=\"dataframe\">\n  <thead>\n    <tr style=\"text-align: right;\">\n      <th></th>\n      <th>Геройское имя</th>\n      <th>Прозвище</th>\n      <th>Настоящее имя</th>\n      <th>Причуда</th>\n    </tr>\n  </thead>\n  <tbody>\n    <tr>\n      <th>0</th>\n      <td>Анима</td>\n      <td>Вежливый герой</td>\n      <td>Коджи Кода</td>\n      <td>Голос животных</td>\n    </tr>\n    <tr>\n      <th>1</th>\n      <td>Боевой Кулак</td>\n      <td>?</td>\n      <td>Ицука Кендо</td>\n      <td>Большие кулаки</td>\n    </tr>\n    <tr>\n      <th>2</th>\n      <td>Вантаблэк</td>\n      <td>Хитрый герой</td>\n      <td>Шихай Куроиро</td>\n      <td>Чернота</td>\n    </tr>\n    <tr>\n      <th>3</th>\n      <td>Виноградный Сок</td>\n      <td>Герой, который готов сорвать с себя всё</td>\n      <td>Минору Минета</td>\n      <td>Волосы-виноград</td>\n    </tr>\n    <tr>\n      <th>4</th>\n      <td>Деку</td>\n      <td>?</td>\n      <td>Изуку Мидория</td>\n      <td>Один За Всех</td>\n    </tr>\n  </tbody>\n</table>\n</div>"
          },
          "metadata": {},
          "execution_count": 40
        }
      ],
      "source": [
        "students = boku_na_hero[3] # Список студентов Юэй\n",
        "students.head()"
      ]
    },
    {
      "cell_type": "code",
      "execution_count": 41,
      "metadata": {},
      "outputs": [
        {
          "output_type": "execute_result",
          "data": {
            "text/plain": [
              "  Геройское имя     Прозвище  Настоящее имя       Причуда\n",
              "0  Алый Бунтарь            ?              ?             ?\n",
              "1     Бабблгёрл            ?  Каоруко Авата        Пузыри\n",
              "2       Босатка            ?  Куго Сакамата       Косатка\n",
              "3    Быстроланч            ?              ?             ?\n",
              "4    Всемогущий  Символ Мира   Тошинори Яги  Один За Всех"
            ],
            "text/html": "<div>\n<style scoped>\n    .dataframe tbody tr th:only-of-type {\n        vertical-align: middle;\n    }\n\n    .dataframe tbody tr th {\n        vertical-align: top;\n    }\n\n    .dataframe thead th {\n        text-align: right;\n    }\n</style>\n<table border=\"1\" class=\"dataframe\">\n  <thead>\n    <tr style=\"text-align: right;\">\n      <th></th>\n      <th>Геройское имя</th>\n      <th>Прозвище</th>\n      <th>Настоящее имя</th>\n      <th>Причуда</th>\n    </tr>\n  </thead>\n  <tbody>\n    <tr>\n      <th>0</th>\n      <td>Алый Бунтарь</td>\n      <td>?</td>\n      <td>?</td>\n      <td>?</td>\n    </tr>\n    <tr>\n      <th>1</th>\n      <td>Бабблгёрл</td>\n      <td>?</td>\n      <td>Каоруко Авата</td>\n      <td>Пузыри</td>\n    </tr>\n    <tr>\n      <th>2</th>\n      <td>Босатка</td>\n      <td>?</td>\n      <td>Куго Сакамата</td>\n      <td>Косатка</td>\n    </tr>\n    <tr>\n      <th>3</th>\n      <td>Быстроланч</td>\n      <td>?</td>\n      <td>?</td>\n      <td>?</td>\n    </tr>\n    <tr>\n      <th>4</th>\n      <td>Всемогущий</td>\n      <td>Символ Мира</td>\n      <td>Тошинори Яги</td>\n      <td>Один За Всех</td>\n    </tr>\n  </tbody>\n</table>\n</div>"
          },
          "metadata": {},
          "execution_count": 41
        }
      ],
      "source": [
        "pro_hero = boku_na_hero[2] # Список проф героев\n",
        "pro_hero.head()"
      ]
    },
    {
      "cell_type": "code",
      "execution_count": 42,
      "metadata": {},
      "outputs": [],
      "source": [
        "import json "
      ]
    },
    {
      "cell_type": "code",
      "execution_count": 43,
      "metadata": {},
      "outputs": [
        {
          "output_type": "execute_result",
          "data": {
            "text/plain": [
              "{'0': {'Геройское имя': 'Ползущий',\n",
              "  'Прозвище': 'Джентельмен, Везущий',\n",
              "  'Настоящее имя': 'Коичи Хаимавари',\n",
              "  'Причуда': 'Скольжение'},\n",
              " '1': {'Геройское имя': 'Поп-Степ',\n",
              "  'Прозвище': 'Независимая звезда (самопровозглашённая)',\n",
              "  'Настоящее имя': 'Казухо Ханеяма',\n",
              "  'Причуда': 'Прыжок'},\n",
              " '2': {'Геройское имя': 'Кастет',\n",
              "  'Прозвище': 'Уборщик с кулаками',\n",
              "  'Настоящее имя': 'Такеши Куроива',\n",
              "  'Причуда': 'Разгон (была украдена Все-За-Одного) Беспричудный (на данный момент)'}}"
            ]
          },
          "metadata": {},
          "execution_count": 43
        }
      ],
      "source": [
        "result = lynch.to_json(orient=\"index\")\n",
        "parsed = json.loads(result) # Encoding Dataframe using \"index\" formatted JSON\n",
        "parsed"
      ]
    },
    {
      "cell_type": "code",
      "execution_count": 44,
      "metadata": {},
      "outputs": [
        {
          "output_type": "execute_result",
          "data": {
            "text/plain": [
              "[['Ползущий', 'Джентельмен, Везущий', 'Коичи Хаимавари', 'Скольжение'],\n",
              " ['Поп-Степ',\n",
              "  'Независимая звезда (самопровозглашённая)',\n",
              "  'Казухо Ханеяма',\n",
              "  'Прыжок'],\n",
              " ['Кастет',\n",
              "  'Уборщик с кулаками',\n",
              "  'Такеши Куроива',\n",
              "  'Разгон (была украдена Все-За-Одного) Беспричудный (на данный момент)']]"
            ]
          },
          "metadata": {},
          "execution_count": 44
        }
      ],
      "source": [
        "result = lynch.to_json(orient=\"values\")\n",
        "parsed = json.loads(result) # Encoding Dataframe using \"values\" formatted JSON\n",
        "parsed"
      ]
    },
    {
      "cell_type": "code",
      "execution_count": 8,
      "metadata": {},
      "outputs": [
        {
          "output_type": "execute_result",
          "data": {
            "text/plain": [
              "{'schema': {'fields': [{'name': 'index', 'type': 'integer'},\n",
              "   {'name': 'Геройское имя', 'type': 'string'},\n",
              "   {'name': 'Прозвище', 'type': 'string'},\n",
              "   {'name': 'Настоящее имя', 'type': 'string'},\n",
              "   {'name': 'Причуда', 'type': 'string'}],\n",
              "  'primaryKey': ['index'],\n",
              "  'pandas_version': '0.20.0'},\n",
              " 'data': [{'index': 0,\n",
              "   'Геройское имя': 'Ползущий',\n",
              "   'Прозвище': 'Джентельмен, Везущий',\n",
              "   'Настоящее имя': 'Коичи Хаимавари',\n",
              "   'Причуда': 'Скольжение'},\n",
              "  {'index': 1,\n",
              "   'Геройское имя': 'Поп-Степ',\n",
              "   'Прозвище': 'Независимая звезда (самопровозглашённая)',\n",
              "   'Настоящее имя': 'Казухо Ханеяма',\n",
              "   'Причуда': 'Прыжок'},\n",
              "  {'index': 2,\n",
              "   'Геройское имя': 'Кастет',\n",
              "   'Прозвище': 'Уборщик с кулаками',\n",
              "   'Настоящее имя': 'Такеши Куроива',\n",
              "   'Причуда': 'Разгон (была украдена Все-За-Одного) Беспричудный (на данный момент)'}]}"
            ]
          },
          "metadata": {},
          "execution_count": 8
        }
      ],
      "source": [
        "result = lynch.to_json(orient=\"table\")\n",
        "parsed = json.loads(result) # Encoding Dataframe using \"table\" formatted JSON\n",
        "parsed"
      ]
    }
  ]
}